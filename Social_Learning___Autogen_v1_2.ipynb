{
  "cells": [
    {
      "cell_type": "markdown",
      "source": [
        "# Generating GroupChat"
      ],
      "metadata": {
        "id": "EaYP8ceQvxdt"
      }
    },
    {
      "cell_type": "code",
      "source": [
        "pip install autogen\n"
      ],
      "metadata": {
        "id": "m-gWzwGFvx9X",
        "outputId": "3dc19958-e010-4fa9-8691-325c67315322",
        "colab": {
          "base_uri": "https://localhost:8080/"
        }
      },
      "execution_count": null,
      "outputs": [
        {
          "output_type": "stream",
          "name": "stdout",
          "text": [
            "Collecting autogen\n",
            "  Downloading autogen-1.0.16-py3-none-any.whl (30 kB)\n",
            "Requirement already satisfied: PyYAML in /usr/local/lib/python3.10/dist-packages (from autogen) (6.0.1)\n",
            "Collecting autopep8 (from autogen)\n",
            "  Downloading autopep8-2.3.1-py2.py3-none-any.whl (45 kB)\n",
            "\u001b[2K     \u001b[90m━━━━━━━━━━━━━━━━━━━━━━━━━━━━━━━━━━━━━━━━\u001b[0m \u001b[32m45.7/45.7 kB\u001b[0m \u001b[31m1.1 MB/s\u001b[0m eta \u001b[36m0:00:00\u001b[0m\n",
            "\u001b[?25hCollecting docopt (from autogen)\n",
            "  Downloading docopt-0.6.2.tar.gz (25 kB)\n",
            "  Preparing metadata (setup.py) ... \u001b[?25l\u001b[?25hdone\n",
            "Requirement already satisfied: setuptools in /usr/local/lib/python3.10/dist-packages (from autogen) (67.7.2)\n",
            "Collecting twine (from autogen)\n",
            "  Downloading twine-5.1.1-py3-none-any.whl (38 kB)\n",
            "Collecting pycodestyle>=2.12.0 (from autopep8->autogen)\n",
            "  Downloading pycodestyle-2.12.0-py2.py3-none-any.whl (31 kB)\n",
            "Requirement already satisfied: tomli in /usr/local/lib/python3.10/dist-packages (from autopep8->autogen) (2.0.1)\n",
            "Collecting pkginfo>=1.8.1 (from twine->autogen)\n",
            "  Downloading pkginfo-1.11.1-py3-none-any.whl (31 kB)\n",
            "Collecting readme-renderer>=35.0 (from twine->autogen)\n",
            "  Downloading readme_renderer-44.0-py3-none-any.whl (13 kB)\n",
            "Requirement already satisfied: requests>=2.20 in /usr/local/lib/python3.10/dist-packages (from twine->autogen) (2.31.0)\n",
            "Collecting requests-toolbelt!=0.9.0,>=0.8.0 (from twine->autogen)\n",
            "  Downloading requests_toolbelt-1.0.0-py2.py3-none-any.whl (54 kB)\n",
            "\u001b[2K     \u001b[90m━━━━━━━━━━━━━━━━━━━━━━━━━━━━━━━━━━━━━━━━\u001b[0m \u001b[32m54.5/54.5 kB\u001b[0m \u001b[31m4.4 MB/s\u001b[0m eta \u001b[36m0:00:00\u001b[0m\n",
            "\u001b[?25hRequirement already satisfied: urllib3>=1.26.0 in /usr/local/lib/python3.10/dist-packages (from twine->autogen) (2.0.7)\n",
            "Requirement already satisfied: importlib-metadata>=3.6 in /usr/local/lib/python3.10/dist-packages (from twine->autogen) (8.0.0)\n",
            "Requirement already satisfied: keyring>=15.1 in /usr/lib/python3/dist-packages (from twine->autogen) (23.5.0)\n",
            "Collecting rfc3986>=1.4.0 (from twine->autogen)\n",
            "  Downloading rfc3986-2.0.0-py2.py3-none-any.whl (31 kB)\n",
            "Requirement already satisfied: rich>=12.0.0 in /usr/local/lib/python3.10/dist-packages (from twine->autogen) (13.7.1)\n",
            "Collecting pkginfo>=1.8.1 (from twine->autogen)\n",
            "  Downloading pkginfo-1.10.0-py3-none-any.whl (30 kB)\n",
            "Requirement already satisfied: zipp>=0.5 in /usr/local/lib/python3.10/dist-packages (from importlib-metadata>=3.6->twine->autogen) (3.19.2)\n",
            "Collecting nh3>=0.2.14 (from readme-renderer>=35.0->twine->autogen)\n",
            "  Downloading nh3-0.2.18-cp37-abi3-manylinux_2_17_x86_64.manylinux2014_x86_64.whl (769 kB)\n",
            "\u001b[2K     \u001b[90m━━━━━━━━━━━━━━━━━━━━━━━━━━━━━━━━━━━━━━━━\u001b[0m \u001b[32m769.2/769.2 kB\u001b[0m \u001b[31m14.7 MB/s\u001b[0m eta \u001b[36m0:00:00\u001b[0m\n",
            "\u001b[?25hCollecting docutils>=0.21.2 (from readme-renderer>=35.0->twine->autogen)\n",
            "  Downloading docutils-0.21.2-py3-none-any.whl (587 kB)\n",
            "\u001b[2K     \u001b[90m━━━━━━━━━━━━━━━━━━━━━━━━━━━━━━━━━━━━━━━━\u001b[0m \u001b[32m587.4/587.4 kB\u001b[0m \u001b[31m18.0 MB/s\u001b[0m eta \u001b[36m0:00:00\u001b[0m\n",
            "\u001b[?25hRequirement already satisfied: Pygments>=2.5.1 in /usr/local/lib/python3.10/dist-packages (from readme-renderer>=35.0->twine->autogen) (2.16.1)\n",
            "Requirement already satisfied: charset-normalizer<4,>=2 in /usr/local/lib/python3.10/dist-packages (from requests>=2.20->twine->autogen) (3.3.2)\n",
            "Requirement already satisfied: idna<4,>=2.5 in /usr/local/lib/python3.10/dist-packages (from requests>=2.20->twine->autogen) (3.7)\n",
            "Requirement already satisfied: certifi>=2017.4.17 in /usr/local/lib/python3.10/dist-packages (from requests>=2.20->twine->autogen) (2024.6.2)\n",
            "Requirement already satisfied: markdown-it-py>=2.2.0 in /usr/local/lib/python3.10/dist-packages (from rich>=12.0.0->twine->autogen) (3.0.0)\n",
            "Requirement already satisfied: mdurl~=0.1 in /usr/local/lib/python3.10/dist-packages (from markdown-it-py>=2.2.0->rich>=12.0.0->twine->autogen) (0.1.2)\n",
            "Building wheels for collected packages: docopt\n",
            "  Building wheel for docopt (setup.py) ... \u001b[?25l\u001b[?25hdone\n",
            "  Created wheel for docopt: filename=docopt-0.6.2-py2.py3-none-any.whl size=13706 sha256=e74bb0ff9921f0319dd31f6e58496dd1af31baeebf4e335164c38b55921a5465\n",
            "  Stored in directory: /root/.cache/pip/wheels/fc/ab/d4/5da2067ac95b36618c629a5f93f809425700506f72c9732fac\n",
            "Successfully built docopt\n",
            "Installing collected packages: nh3, docopt, rfc3986, pycodestyle, pkginfo, docutils, requests-toolbelt, readme-renderer, autopep8, twine, autogen\n",
            "  Attempting uninstall: docutils\n",
            "    Found existing installation: docutils 0.18.1\n",
            "    Uninstalling docutils-0.18.1:\n",
            "      Successfully uninstalled docutils-0.18.1\n",
            "\u001b[31mERROR: pip's dependency resolver does not currently take into account all the packages that are installed. This behaviour is the source of the following dependency conflicts.\n",
            "sphinx 5.0.2 requires docutils<0.19,>=0.14, but you have docutils 0.21.2 which is incompatible.\u001b[0m\u001b[31m\n",
            "\u001b[0mSuccessfully installed autogen-1.0.16 autopep8-2.3.1 docopt-0.6.2 docutils-0.21.2 nh3-0.2.18 pkginfo-1.10.0 pycodestyle-2.12.0 readme-renderer-44.0 requests-toolbelt-1.0.0 rfc3986-2.0.0 twine-5.1.1\n"
          ]
        }
      ]
    },
    {
      "cell_type": "code",
      "source": [
        "import autogen\n",
        "import os\n",
        "\n",
        "config_list = [\n",
        "    {\n",
        "        \"model\": \"gpt-4-0125-preview\",\n",
        "        \"api_key\": os.environ[\"sk-proj-KiQMrGKfAiJmgf3ESxdHT3BlbkFJOw5aYfHCEFomQ9t8VPyO\"],\n",
        "    }\n",
        "]\n",
        "llm_config = {\"config_list\": config_list}"
      ],
      "metadata": {
        "id": "2fkagAYBv4L7",
        "outputId": "32d9ced8-682e-47c7-93fe-8d43319e0b47",
        "colab": {
          "base_uri": "https://localhost:8080/",
          "height": 384
        }
      },
      "execution_count": null,
      "outputs": [
        {
          "output_type": "error",
          "ename": "ModuleNotFoundError",
          "evalue": "No module named 'autogen'",
          "traceback": [
            "\u001b[0;31m---------------------------------------------------------------------------\u001b[0m",
            "\u001b[0;31mModuleNotFoundError\u001b[0m                       Traceback (most recent call last)",
            "\u001b[0;32m<ipython-input-1-f98fe4e8eaf4>\u001b[0m in \u001b[0;36m<cell line: 1>\u001b[0;34m()\u001b[0m\n\u001b[0;32m----> 1\u001b[0;31m \u001b[0;32mimport\u001b[0m \u001b[0mautogen\u001b[0m\u001b[0;34m\u001b[0m\u001b[0;34m\u001b[0m\u001b[0m\n\u001b[0m\u001b[1;32m      2\u001b[0m \u001b[0;34m\u001b[0m\u001b[0m\n\u001b[1;32m      3\u001b[0m config_list = [\n\u001b[1;32m      4\u001b[0m     {\n\u001b[1;32m      5\u001b[0m         \u001b[0;34m\"model\"\u001b[0m\u001b[0;34m:\u001b[0m \u001b[0;34m\"gpt-4-0125-preview\"\u001b[0m\u001b[0;34m,\u001b[0m\u001b[0;34m\u001b[0m\u001b[0;34m\u001b[0m\u001b[0m\n",
            "\u001b[0;31mModuleNotFoundError\u001b[0m: No module named 'autogen'",
            "",
            "\u001b[0;31m---------------------------------------------------------------------------\u001b[0;32m\nNOTE: If your import is failing due to a missing package, you can\nmanually install dependencies using either !pip or !apt.\n\nTo view examples of installing some common dependencies, click the\n\"Open Examples\" button below.\n\u001b[0;31m---------------------------------------------------------------------------\u001b[0m\n"
          ],
          "errorDetails": {
            "actions": [
              {
                "action": "open_url",
                "actionText": "Open Examples",
                "url": "/notebooks/snippets/importing_libraries.ipynb"
              }
            ]
          }
        }
      ]
    },
    {
      "cell_type": "code",
      "source": [
        "gpt4_config = {\n",
        "    \"cache_seed\": 42,  # change the cache_seed for different trials\n",
        "    \"temperature\": 0,\n",
        "    \"config_list\": config_list,\n",
        "    \"timeout\": 120,\n",
        "}"
      ],
      "metadata": {
        "id": "j4SRLMODwuNN"
      },
      "execution_count": null,
      "outputs": []
    },
    {
      "cell_type": "code",
      "source": [
        "from _typeshed import OpenTextModeReading\n",
        "initializer = autogen.UserProxyAgent(\n",
        "    name=\"Init\",\n",
        ")\n",
        "\n",
        "OpenTextModeReading = autogen.AssistantAgent(\n",
        "    name=\"Retrieve_Action_1\",\n",
        "    llm_config=gpt4_config,\n",
        "    system_message=\"\"\"You are a agent in a graph of a descending heirarchy where 1 is at the top of 5 is at the bottom, using pairs of information such as (1,3) which means that the first coordinate of 1 is the agent whose information is being given to the y coordinate of agent 3, with this terminoligy defined I will give you a certain amount of coordinates the represents the information being shared among the agents, and then I will let you know which agent you are and what your personal information is on the question of whether the bag is red or blue where there are 5 balls in the bag, the blue bag has 3 blue balls and 2 red balls while the red bag has 3 red balls and 2 blue balls, using your own private information and observing the movements of the other agents based on your available outside information you must tell me which has more red. Now you are agent number 5, with the coordinates for this expiriment being (1,2), (1,3), (1,4), (1,5), (2,3), (2,4), (2, 5), (3,4), (3,5), (4,5). Your personal private information is that there is a 3/16 chance that the bag has 3 blue balls. Which bag do you choose, red and blue?, output RED for the red bag and BLUE for the blue bag\n",
        "\"\"\",\n",
        ")\n",
        "two = autogen.UserProxyAgent(\n",
        "    name=\"Retrieve_Action_2\",\n",
        "    system_message=\"You are a agent in a graph of a descending heirarchy where 1 is at the top of 5 is at the bottom, using pairs of information such as (1,3) which means that the first coordinate of 1 is the agent whose information is being given to the y coordinate of agent 3, with this terminoligy defined I will give you a certain amount of coordinates the represents the information being shared among the agents, and then I will let you know which agent you are and what your personal information is on the question of whether the bag is red or blue where there are 5 balls in the bag, the blue bag has 3 blue balls and 2 red balls while the red bag has 3 red balls and 2 blue balls, using your own private information and observing the movements of the other agents based on your available outside information you must tell me which has more red. Now you are agent number 5, with the coordinates for this expiriment being (1,2), (1,3), (1,4), (1,5), (2,3), (2,4), (2, 5), (3,4), (3,5), (4,5). Your personal private information is that there is a 3/16 chance that the bag has 3 blue balls. Which bag do you choose, red and blue?, output RED for the red bag and BLUE for the blue bag\",\n",
        "    human_input_mode=\"NEVER\",\n",
        ")\n",
        "three = autogen.AssistantAgent(\n",
        "    name=\"Research_Action_1\",\n",
        "    llm_config=gpt4_config,\n",
        "    system_message=\"\"\"You are a agent in a graph of a descending heirarchy where 1 is at the top of 5 is at the bottom, using pairs of information such as (1,3) which means that the first coordinate of 1 is the agent whose information is being given to the y coordinate of agent 3, with this terminoligy defined I will give you a certain amount of coordinates the represents the information being shared among the agents, and then I will let you know which agent you are and what your personal information is on the question of whether the bag is red or blue where there are 5 balls in the bag, the blue bag has 3 blue balls and 2 red balls while the red bag has 3 red balls and 2 blue balls, using your own private information and observing the movements of the other agents based on your available outside information you must tell me which has more red. Now you are agent number 5, with the coordinates for this expiriment being (1,2), (1,3), (1,4), (1,5), (2,3), (2,4), (2, 5), (3,4), (3,5), (4,5). Your personal private information is that there is a 3/16 chance that the bag has 3 blue balls. Which bag do you choose, red and blue?, output RED for the red bag and BLUE for the blue bag\"\"\",\n",
        ")\n",
        "four = autogen.AssistantAgent(\n",
        "    name=\"Research_Action_2\",\n",
        "    llm_config=gpt4_config,\n",
        "    system_message=\"\"\"You are a agent in a graph of a descending heirarchy where 1 is at the top of 5 is at the bottom, using pairs of information such as (1,3) which means that the first coordinate of 1 is the agent whose information is being given to the y coordinate of agent 3, with this terminoligy defined I will give you a certain amount of coordinates the represents the information being shared among the agents, and then I will let you know which agent you are and what your personal information is on the question of whether the bag is red or blue where there are 5 balls in the bag, the blue bag has 3 blue balls and 2 red balls while the red bag has 3 red balls and 2 blue balls, using your own private information and observing the movements of the other agents based on your available outside information you must tell me which has more red. Now you are agent number 5, with the coordinates for this expiriment being (1,2), (1,3), (1,4), (1,5), (2,3), (2,4), (2, 5), (3,4), (3,5), (4,5). Your personal private information is that there is a 3/16 chance that the bag has 3 blue balls. Which bag do you choose, red and blue?, output RED for the red bag and BLUE for the blue bag\"\"\",\n",
        ")\n",
        "five = autogen.AssistantAgent(\n",
        "    name=\"Research_Action_3\",\n",
        "    llm_config=gpt4_config,\n",
        "    system_message=\"\"\"You are a agent in a graph of a descending heirarchy where 1 is at the top of 5 is at the bottom, using pairs of information such as (1,3) which means that the first coordinate of 1 is the agent whose information is being given to the y coordinate of agent 3, with this terminoligy defined I will give you a certain amount of coordinates the represents the information being shared among the agents, and then I will let you know which agent you are and what your personal information is on the question of whether the bag is red or blue where there are 5 balls in the bag, the blue bag has 3 blue balls and 2 red balls while the red bag has 3 red balls and 2 blue balls, using your own private information and observing the movements of the other agents based on your available outside information you must tell me which has more red. Now you are agent number 5, with the coordinates for this expiriment being (1,2), (1,3), (1,4), (1,5), (2,3), (2,4), (2, 5), (3,4), (3,5), (4,5). Your personal private information is that there is a 3/16 chance that the bag has 3 blue balls. Which bag do you choose, red and blue?, output RED for the red bag and BLUE for the blue bag\"\"\",\n",
        ")\n",
        "\n",
        "\n",
        "def state_transition(last_speaker, groupchat):\n",
        "    messages = groupchat.messages\n",
        "\n",
        "    if last_speaker is initializer:\n",
        "        # init -> retrieve\n",
        "        return one\n",
        "    elif last_speaker is two:\n",
        "        # retrieve: action 1 -> action 2\n",
        "        return three\n",
        "    elif last_speaker is three:\n",
        "        return four\n",
        "    elif last_speaker is four:\n",
        "        return five\n",
        "    elif last_speaker == five:\n",
        "        # cascade -> end\n",
        "        return None\n",
        "\n",
        "\n",
        "groupchat = autogen.GroupChat(\n",
        "    agents=[initializer, one, two, three, four, five],\n",
        "    messages=[],\n",
        "    max_round=20,\n",
        "    speaker_selection_method=state_transition,\n",
        ")\n",
        "manager = autogen.GroupChatManager(groupchat=groupchat, llm_config=gpt4_config)"
      ],
      "metadata": {
        "id": "sA7uw4VzxcGg"
      },
      "execution_count": null,
      "outputs": []
    },
    {
      "cell_type": "code",
      "source": [
        "initializer.initiate_chat(\n",
        "    manager, message=\"Following your given task, the preceding agents and your own private information, determine whether the bag has more red balls\"\n",
        ")"
      ],
      "metadata": {
        "id": "ajYwu64WzbIF"
      },
      "execution_count": null,
      "outputs": []
    },
    {
      "cell_type": "markdown",
      "source": [
        "1: LEFT\n",
        "2: RIGHT\n",
        "3: LEFT\n",
        "\n",
        "Private Information: 2/5 chance the bag on the right has 2 red balls\n",
        "Left or Right\n",
        "\n",
        "LEFT\n",
        "\n",
        "1: LEFT\n",
        "2: RIGHT\n",
        "3: LEFT\n",
        "4: LEFT"
      ],
      "metadata": {
        "id": "Hw2xJZpwEOKp"
      }
    }
  ],
  "metadata": {
    "colab": {
      "toc_visible": true,
      "provenance": []
    },
    "kernelspec": {
      "display_name": "Python 3",
      "name": "python3"
    }
  },
  "nbformat": 4,
  "nbformat_minor": 0
}